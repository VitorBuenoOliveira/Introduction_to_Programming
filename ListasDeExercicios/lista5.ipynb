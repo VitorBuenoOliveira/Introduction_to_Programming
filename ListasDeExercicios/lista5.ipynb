{
 "cells": [
  {
   "cell_type": "code",
   "execution_count": 1,
   "metadata": {},
   "outputs": [
    {
     "data": {
      "text/plain": [
       "0.46153846153846156"
      ]
     },
     "execution_count": 1,
     "metadata": {},
     "output_type": "execute_result"
    }
   ],
   "source": [
    "def separador(texto):\n",
    "    texto = texto.lower()\n",
    "    texto = texto.replace(',','')\n",
    "    texto = texto.replace('.','')\n",
    "    f_text = texto.split()\n",
    "    return f_text\n",
    "\n",
    "\n",
    "def dicionariof(df):\n",
    "    contador_de_palavras = {}\n",
    "\n",
    "    for palavra in df:\n",
    "        \n",
    "        if palavra in contador_de_palavras:\n",
    "            contador_de_palavras[palavra] += 1\n",
    "        else:\n",
    "            contador_de_palavras[palavra] = 1\n",
    "            \n",
    "    return contador_de_palavras \n",
    "\n",
    "def indicedesimilaridade(ids1,ids2):\n",
    "    teste1 = dicionariof(separador(ids1))\n",
    "    teste2 = dicionariof(separador(ids2))\n",
    "\n",
    "    inter = teste1.keys() & teste2.keys()\n",
    "    diff = teste1.keys() ^ teste2.keys()\n",
    "\n",
    "    soma = 0\n",
    "    for palavra in inter:\n",
    "        soma += abs(teste1[palavra]-teste2[palavra])\n",
    "    \n",
    "    for palavra in diff:\n",
    "        soma += abs(teste1.get(palavra, 0) + teste2.get(palavra,  0))\n",
    "    total_palavras = sum(teste1.values()) + sum(teste2.values())\n",
    "    similaridade = abs(1 - (soma / total_palavras))\n",
    "    return similaridade\n",
    "\n",
    "\n",
    "\n",
    "indicedesimilaridade('Eu gosto de sorvete',' eu gosto de chocolate e tambem gosto de pizza')\n",
    "\n",
    "\n",
    "\n",
    "# texto1= (\"A primavera chegou e as flores estão desabrochando nos jardins. Os pássaros cantam alegremente enquanto o sol brilha no céu azul. As pessoas saem de casa para aproveitar o clima agradável e se reunir com amigos. É uma época de renovação e beleza, onde a natureza se mostra em todo o seu esplendor.\")\n",
    "# texto2 = (\"O inverno chegou e a neve cobre as paisagens. Os animais se recolhem em suas tocas para se proteger do frio intenso. O vento sopra gelado, e as pessoas se agasalham para enfrentar o clima rigoroso. É uma estação de tranquilidade e contemplação, onde o silêncio domina as montanhas cobertas de branco.\")\n",
    "# dfa =dicionariof(a)\n",
    "# dfb = dicionariof(b)\n",
    "# indicedesimilaridade(dfa)\n",
    "# contador_de_palavras = {}\n",
    "\n",
    "# for text in f_text:\n",
    "    \n",
    "#     if  text in contador_de_palavras:\n",
    "#         contador_de_palavras[text] +=1\n",
    "#     else:\n",
    "#         contador_de_palavras[text]  =1\n",
    "\n",
    "# print(contador_de_palavras)\n",
    "\n",
    "\n",
    "\n"
   ]
  }
 ],
 "metadata": {
  "kernelspec": {
   "display_name": "Python 3",
   "language": "python",
   "name": "python3"
  },
  "language_info": {
   "codemirror_mode": {
    "name": "ipython",
    "version": 3
   },
   "file_extension": ".py",
   "mimetype": "text/x-python",
   "name": "python",
   "nbconvert_exporter": "python",
   "pygments_lexer": "ipython3",
   "version": "3.11.2"
  },
  "orig_nbformat": 4
 },
 "nbformat": 4,
 "nbformat_minor": 2
}
