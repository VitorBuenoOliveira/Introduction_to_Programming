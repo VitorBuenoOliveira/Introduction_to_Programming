{
 "cells": [
  {
   "cell_type": "code",
   "execution_count": 3,
   "metadata": {},
   "outputs": [
    {
     "data": {
      "text/plain": [
       "{'V': 1, 'i': 1, 't': 1, 'o': 1, 'r': 1}"
      ]
     },
     "execution_count": 3,
     "metadata": {},
     "output_type": "execute_result"
    }
   ],
   "source": [
    "def contador(cont):\n",
    "    contagem = {}\n",
    "\n",
    "    for letras in cont:\n",
    "        if  letras in contagem:\n",
    "            contagem[letras] += 1\n",
    "        else:\n",
    "            contagem[letras] = 1\n",
    "    return contagem\n",
    "contador('Vitor')\n"
   ]
  },
  {
   "cell_type": "code",
   "execution_count": 1,
   "metadata": {},
   "outputs": [
    {
     "name": "stdout",
     "output_type": "stream",
     "text": [
      "4.5\n"
     ]
    }
   ],
   "source": [
    "def media(med):\n",
    "    if len(med) ==  0:\n",
    "        return 0 \n",
    "    soma = sum(med)\n",
    "    media = soma / len(med)\n",
    "    return media\n",
    "\n",
    "lista = [2,3,4,5]\n",
    "media(lista)"
   ]
  },
  {
   "cell_type": "code",
   "execution_count": 7,
   "metadata": {},
   "outputs": [
    {
     "data": {
      "text/plain": [
       "True"
      ]
     },
     "execution_count": 7,
     "metadata": {},
     "output_type": "execute_result"
    }
   ],
   "source": [
    "###Meu Jeito\n",
    "# def vdup(lista):\n",
    "#     return len(lista) != len(set(lista))\n",
    "\n",
    "\n",
    "# print(vdup('Ola Vitor'))\n",
    "# print(vdup('Olaaaa Vitor'))\n",
    "\n",
    "### Jeito Do Professor\n",
    "def duplicatas(lista):\n",
    "    for i in range((len(lista))):\n",
    "        for j in range(i+1,len(lista)):\n",
    "            if lista[i] == lista[j]:\n",
    "                return True\n",
    "    return False\n",
    "\n",
    "l = [1,2,3,4,5,3]\n",
    "duplicatas(l)\n"
   ]
  },
  {
   "cell_type": "code",
   "execution_count": 9,
   "metadata": {},
   "outputs": [
    {
     "data": {
      "text/plain": [
       "[2, 3, 4, 5]"
      ]
     },
     "execution_count": 9,
     "metadata": {},
     "output_type": "execute_result"
    }
   ],
   "source": [
    "#Meu jeito \n",
    "# def rem_dup(lista):\n",
    "#     list_none_dup = list(set(lista))\n",
    "#     return list_none_dup\n",
    "\n",
    "# tab = [1 ,2 ,3 , 3, 4, 5, 5]\n",
    "# result = rem_dup(tab)\n",
    "\n",
    "# print(result)\n",
    "\n",
    "###Jeito do Professor\n",
    "def remove_duplicatas(lista):\n",
    "    nova_lista = []\n",
    "    for elemento in lista:\n",
    "        if elemento not in nova_lista:\n",
    "            nova_lista.append(elemento)#append = ele inclui o valor dentro da lista na ultima coleção\n",
    "\n",
    "    return nova_lista\n",
    "\n",
    "list = [2,3,4,5,3]\n",
    "remove_duplicatas(list)"
   ]
  },
  {
   "cell_type": "code",
   "execution_count": 11,
   "metadata": {},
   "outputs": [
    {
     "data": {
      "text/plain": [
       "['pé', 'casa', 'árvore', 'caminhão']"
      ]
     },
     "execution_count": 11,
     "metadata": {},
     "output_type": "execute_result"
    }
   ],
   "source": [
    "#Meu Jeito\n",
    "# def ordenar_por_tamanho(lista):\n",
    "#     lista.sort(key=len)\n",
    "#     return lista\n",
    "\n",
    "# list1 = ['Banana', 'uva', 'macarrão', 'Bacana','Pera']\n",
    "# print(ordenar_por_tamanho(list1))\n",
    "\n",
    "###Jeito Do Professor\n",
    "def ordenar_por_tamanho(strings):\n",
    "    n=len(lista)\n",
    "    for i in range(n-1):\n",
    "        for j in range(n-1-i):\n",
    "            if len(strings[j]) >len(strings[j+1]):\n",
    "                strings[j], strings[j+1] = strings[j+1], strings[j]\n",
    "    return strings\n",
    "\n",
    "l = ['caminhão','casa','árvore','pé']\n",
    "\n",
    "ordenar_por_tamanho(l)"
   ]
  },
  {
   "cell_type": "code",
   "execution_count": 7,
   "metadata": {},
   "outputs": [
    {
     "data": {
      "text/plain": [
       "True"
      ]
     },
     "execution_count": 7,
     "metadata": {},
     "output_type": "execute_result"
    }
   ],
   "source": [
    "def sao_anagramas(string1, string2):\n",
    "    \n",
    "    string1 = string1.replace(\" \", \"\").lower()\n",
    "    string2 = string2.replace(\" \", \"\").lower()\n",
    "\n",
    "    if len(string1) != len(string2):\n",
    "        return False\n",
    "\n",
    " \n",
    "    contador1 = {}\n",
    "    contador2 = {}\n",
    "\n",
    "    for char in string1:\n",
    "        if char in contador1:\n",
    "            contador1[char] += 1\n",
    "        else:\n",
    "            contador1[char] = 1\n",
    "\n",
    "    for char in string2:\n",
    "        if char in contador2:\n",
    "            contador2[char] += 1\n",
    "        else:\n",
    "            contador2[char] = 1\n",
    "    return contador1 == contador2\n",
    "\n",
    "sao_anagramas('amor','roma')"
   ]
  }
 ],
 "metadata": {
  "kernelspec": {
   "display_name": "Python 3",
   "language": "python",
   "name": "python3"
  },
  "language_info": {
   "codemirror_mode": {
    "name": "ipython",
    "version": 3
   },
   "file_extension": ".py",
   "mimetype": "text/x-python",
   "name": "python",
   "nbconvert_exporter": "python",
   "pygments_lexer": "ipython3",
   "version": "3.11.2"
  },
  "orig_nbformat": 4
 },
 "nbformat": 4,
 "nbformat_minor": 2
}
