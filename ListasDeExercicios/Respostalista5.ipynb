{
 "cells": [
  {
   "cell_type": "code",
   "execution_count": 6,
   "metadata": {},
   "outputs": [
    {
     "ename": "KeyError",
     "evalue": "'texto'",
     "output_type": "error",
     "traceback": [
      "\u001b[1;31m---------------------------------------------------------------------------\u001b[0m",
      "\u001b[1;31mKeyError\u001b[0m                                  Traceback (most recent call last)",
      "Cell \u001b[1;32mIn[6], line 21\u001b[0m\n\u001b[0;32m     19\u001b[0m     \u001b[39mreturn\u001b[39;00m contador_de_palavras\n\u001b[0;32m     20\u001b[0m a \u001b[39m=\u001b[39m lista_palavras(\u001b[39m'\u001b[39m\u001b[39mTexto daora\u001b[39m\u001b[39m'\u001b[39m)\n\u001b[1;32m---> 21\u001b[0m dic_freq(a)\n",
      "Cell \u001b[1;32mIn[6], line 18\u001b[0m, in \u001b[0;36mdic_freq\u001b[1;34m(lista_palavras)\u001b[0m\n\u001b[0;32m     16\u001b[0m         contador_de_palavras[palavra]\u001b[39m+\u001b[39m\u001b[39m=\u001b[39m\u001b[39m1\u001b[39m\n\u001b[0;32m     17\u001b[0m     \u001b[39melse\u001b[39;00m:\n\u001b[1;32m---> 18\u001b[0m         contador_de_palavras[palavra]\u001b[39m+\u001b[39m\u001b[39m=\u001b[39m\u001b[39m1\u001b[39m\n\u001b[0;32m     19\u001b[0m \u001b[39mreturn\u001b[39;00m contador_de_palavras\n",
      "\u001b[1;31mKeyError\u001b[0m: 'texto'"
     ]
    }
   ],
   "source": [
    "# def lista_palavras(texto):\n",
    "#     texto = texto.lower()\n",
    "#     texto = texto.replace(',','')\n",
    "#     texto = texto.replace('.','')\n",
    "#     texto = texto.replace(';','')\n",
    "#     texto = texto.replace('  ','')\n",
    "\n",
    "#     palavras = texto.split(' ')\n",
    "#     return palavras\n",
    "\n",
    "# def dic_freq(lista_palavras):\n",
    "#     contador_de_palavras = {}\n",
    "\n",
    "#     for palavra in lista_palavras:\n",
    "#         if palavra in contador_de_palavras:\n",
    "#             contador_de_palavras[palavra]+=1\n",
    "#         else:\n",
    "#             contador_de_palavras[palavra]+=1\n",
    "#     return contador_de_palavras\n",
    "\n",
    "# lista_palavras()\n",
    "\n",
    "\n"
   ]
  },
  {
   "cell_type": "code",
   "execution_count": 3,
   "metadata": {},
   "outputs": [
    {
     "ename": "NameError",
     "evalue": "name 'lista_palavras' is not defined",
     "output_type": "error",
     "traceback": [
      "\u001b[1;31m---------------------------------------------------------------------------\u001b[0m",
      "\u001b[1;31mNameError\u001b[0m                                 Traceback (most recent call last)",
      "Cell \u001b[1;32mIn[3], line 10\u001b[0m\n\u001b[0;32m      8\u001b[0m             contador_de_palavras[palavra]\u001b[39m+\u001b[39m\u001b[39m=\u001b[39m\u001b[39m1\u001b[39m\n\u001b[0;32m      9\u001b[0m     \u001b[39mreturn\u001b[39;00m contador_de_palavras\n\u001b[1;32m---> 10\u001b[0m a \u001b[39m=\u001b[39m lista_palavras(\u001b[39m'\u001b[39m\u001b[39mTexto daora\u001b[39m\u001b[39m'\u001b[39m)\n\u001b[0;32m     11\u001b[0m dic_freq(a)\n",
      "\u001b[1;31mNameError\u001b[0m: name 'lista_palavras' is not defined"
     ]
    }
   ],
   "source": [
    "\n"
   ]
  }
 ],
 "metadata": {
  "kernelspec": {
   "display_name": "Python 3",
   "language": "python",
   "name": "python3"
  },
  "language_info": {
   "codemirror_mode": {
    "name": "ipython",
    "version": 3
   },
   "file_extension": ".py",
   "mimetype": "text/x-python",
   "name": "python",
   "nbconvert_exporter": "python",
   "pygments_lexer": "ipython3",
   "version": "3.11.2"
  },
  "orig_nbformat": 4
 },
 "nbformat": 4,
 "nbformat_minor": 2
}
