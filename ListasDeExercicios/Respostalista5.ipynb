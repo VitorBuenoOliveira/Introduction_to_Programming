{
 "cells": [
  {
   "cell_type": "code",
   "execution_count": 1,
   "metadata": {},
   "outputs": [],
   "source": [
    "# def lista_palavras(texto):\n",
    "#     texto = texto.lower()\n",
    "#     texto = texto.replace(',','')\n",
    "#     texto = texto.replace('.','')\n",
    "#     texto = texto.replace(';','')\n",
    "#     texto = texto.replace('  ','')\n",
    "\n",
    "#     palavras = texto.split(' ')\n",
    "#     return palavras\n",
    "\n",
    "# def dic_freq(lista_palavras):\n",
    "#     contador_de_palavras = {}\n",
    "\n",
    "#     for palavra in lista_palavras:\n",
    "#         if palavra in contador_de_palavras:\n",
    "#             contador_de_palavras[palavra]+=1\n",
    "#         else:\n",
    "#             contador_de_palavras[palavra]+=1\n",
    "#     return contador_de_palavras\n",
    "\n",
    "# lista_palavras()\n",
    "\n",
    "\n"
   ]
  }
 ],
 "metadata": {
  "kernelspec": {
   "display_name": "Python 3",
   "language": "python",
   "name": "python3"
  },
  "language_info": {
   "codemirror_mode": {
    "name": "ipython",
    "version": 3
   },
   "file_extension": ".py",
   "mimetype": "text/x-python",
   "name": "python",
   "nbconvert_exporter": "python",
   "pygments_lexer": "ipython3",
   "version": "3.11.2"
  },
  "orig_nbformat": 4
 },
 "nbformat": 4,
 "nbformat_minor": 2
}
