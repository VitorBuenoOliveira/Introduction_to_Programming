{
 "cells": [
  {
   "cell_type": "code",
   "execution_count": 5,
   "metadata": {},
   "outputs": [
    {
     "data": {
      "text/plain": [
       "2.449489742783178"
      ]
     },
     "execution_count": 5,
     "metadata": {},
     "output_type": "execute_result"
    }
   ],
   "source": [
    "def raiz_quadrada(num):\n",
    "    resultado = num ** 0.5\n",
    "    return resultado\n",
    "raiz_quadrada(6)"
   ]
  },
  {
   "cell_type": "code",
   "execution_count": 8,
   "metadata": {},
   "outputs": [
    {
     "data": {
      "text/plain": [
       "(36, 64)"
      ]
     },
     "execution_count": 8,
     "metadata": {},
     "output_type": "execute_result"
    }
   ],
   "source": [
    "def eleva(val):\n",
    "    '''\n",
    "    Funcão que eleva qualquer valor em 2\n",
    "    '''\n",
    "    aumenta = val**2\n",
    "    return aumenta\n",
    "eleva(4)\n",
    "\n",
    "\n"
   ]
  },
  {
   "cell_type": "code",
   "execution_count": 18,
   "metadata": {},
   "outputs": [
    {
     "data": {
      "text/plain": [
       "5.0"
      ]
     },
     "execution_count": 18,
     "metadata": {},
     "output_type": "execute_result"
    }
   ],
   "source": [
    "def hipotenusa(a,b):\n",
    "    soma_quadrados = eleva(a) + eleva(b)\n",
    "    h = raiz_quadrada(soma_quadrados)\n",
    "    return h\n",
    "hipotenusa(3,4)"
   ]
  },
  {
   "cell_type": "code",
   "execution_count": 5,
   "metadata": {},
   "outputs": [
    {
     "data": {
      "text/plain": [
       "'Olá Vitor,Tudo bem com você'"
      ]
     },
     "execution_count": 5,
     "metadata": {},
     "output_type": "execute_result"
    }
   ],
   "source": [
    "def funcao_oi(nome,pergunta = 'Tudo bem com você'):\n",
    "    text = f'Olá {nome},{pergunta}'\n",
    "    return text\n",
    "funcao_oi('Vitor')"
   ]
  },
  {
   "cell_type": "code",
   "execution_count": 1,
   "metadata": {},
   "outputs": [
    {
     "data": {
      "text/plain": [
       "[0, 1, 1, 2, 3, 5, 8, 13, 21, 34, 55]"
      ]
     },
     "execution_count": 1,
     "metadata": {},
     "output_type": "execute_result"
    }
   ],
   "source": [
    "\n",
    "#Estrutura para fazer a ideia de Fubonacci\n",
    "def fibonacci(n):\n",
    "    if n == 1:\n",
    "        return [0]\n",
    "    elif n == 2:\n",
    "        return[0,1]\n",
    "    else:\n",
    "        result = [0,1]\n",
    "        for i in range(2, n):\n",
    "            result.append(result[-2]+result[-1])\n",
    "        return result\n",
    "fibonacci(11)\n",
    "\n"
   ]
  },
  {
   "cell_type": "code",
   "execution_count": 12,
   "metadata": {},
   "outputs": [
    {
     "name": "stdout",
     "output_type": "stream",
     "text": [
      "[2, 4, 0, 8, -1]\n"
     ]
    },
    {
     "data": {
      "text/plain": [
       "[-2, 0, 4, 8, 16]"
      ]
     },
     "execution_count": 12,
     "metadata": {},
     "output_type": "execute_result"
    }
   ],
   "source": [
    "def listadobro(ld):\n",
    "    '''\n",
    "    A def tbm aceita lista dentro do parenteses de argumento.\n",
    "    .sort() Ele ordena os valores\n",
    "    for num in ld ele pega o valor caracteres dentro do argumento e converte em quantidade de ordem\n",
    "    '''\n",
    "    dobro_lista = [num * 2 for num in ld]\n",
    "    dobro_lista.sort()\n",
    "    return dobro_lista\n",
    "listadobro([2,4,0,8,-1])\n"
   ]
  },
  {
   "cell_type": "code",
   "execution_count": 13,
   "metadata": {},
   "outputs": [
    {
     "data": {
      "text/plain": [
       "[4, 9, 36, 36]"
      ]
     },
     "execution_count": 13,
     "metadata": {},
     "output_type": "execute_result"
    }
   ],
   "source": [
    "'''\n",
    "Desafio\n",
    "'''\n",
    "def quadrados_ordenados(conjunto):\n",
    "    saida = len(conjunto) * [0]\n",
    "    L = 0\n",
    "    R = len(conjunto)-1\n",
    "    i = len(conjunto)-1\n",
    "    while L <= R:\n",
    "        if abs(conjunto[L])>abs(conjunto[R]):\n",
    "            saida[i] = conjunto[L]**2\n",
    "            i-=1\n",
    "            L+=1\n",
    "        else:\n",
    "            saida[i]=conjunto[R]**2\n",
    "            i-=1\n",
    "            R-=1\n",
    "    return saida\n",
    "\n",
    "quadrados_ordenados([-6,-2,3,6])"
   ]
  }
 ],
 "metadata": {
  "kernelspec": {
   "display_name": "Python 3",
   "language": "python",
   "name": "python3"
  },
  "language_info": {
   "codemirror_mode": {
    "name": "ipython",
    "version": 3
   },
   "file_extension": ".py",
   "mimetype": "text/x-python",
   "name": "python",
   "nbconvert_exporter": "python",
   "pygments_lexer": "ipython3",
   "version": "3.11.2"
  },
  "orig_nbformat": 4
 },
 "nbformat": 4,
 "nbformat_minor": 2
}
