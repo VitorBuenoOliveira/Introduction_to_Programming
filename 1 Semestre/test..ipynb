{
 "cells": [
  {
   "cell_type": "code",
   "execution_count": 1,
   "metadata": {},
   "outputs": [
    {
     "name": "stdout",
     "output_type": "stream",
     "text": [
      "0\n",
      "8\n",
      "8\n",
      "8\n",
      "10\n",
      "10\n",
      "10\n",
      "10\n",
      "10\n",
      "6\n",
      "6\n",
      "6\n",
      "6\n",
      "10\n",
      "10\n",
      "10\n",
      "10\n",
      "10\n",
      "32\n"
     ]
    }
   ],
   "source": [
    "#Desafio de Empresa\n",
    "alturas = [0,8,0,0,10,2,0,0,6]\n",
    "l_max= len(alturas)*[0]\n",
    "r_max = len(alturas)*[0]\n",
    "l_max_value = 0\n",
    "r_max_value = 0\n",
    "at_agua = 0\n",
    "for i in range(len(alturas)):\n",
    "    l_max[i] = l_max_value\n",
    "    l_max_value = max(alturas[i],l_max_value)\n",
    "    print(l_max_value)\n",
    "\n",
    "for i in range(-1,-(len(alturas)+1),-1):\n",
    "    r_max[i] = r_max_value\n",
    "    r_max_value = max(alturas[i],r_max_value)\n",
    "    print(r_max_value)\n",
    "    \n",
    "\n",
    "for i , valor in enumerate(alturas):\n",
    "    altura_min = min(l_max[i], r_max[i])\n",
    "    if valor < altura_min:\n",
    "        at_agua += altura_min - valor\n",
    "print(at_agua)\n"
   ]
  },
  {
   "cell_type": "code",
   "execution_count": 2,
   "metadata": {},
   "outputs": [
    {
     "name": "stdout",
     "output_type": "stream",
     "text": [
      "leite2\n",
      "ovo0\n",
      "pão8\n"
     ]
    }
   ],
   "source": [
    "estoque = {\"leite\": 2, \"ovo\": 0, \"pão\": 8}\n",
    "\n",
    "for item in estoque:\n",
    "    print(f'{item}{estoque[item]}')"
   ]
  }
 ],
 "metadata": {
  "kernelspec": {
   "display_name": "Python 3",
   "language": "python",
   "name": "python3"
  },
  "language_info": {
   "codemirror_mode": {
    "name": "ipython",
    "version": 3
   },
   "file_extension": ".py",
   "mimetype": "text/x-python",
   "name": "python",
   "nbconvert_exporter": "python",
   "pygments_lexer": "ipython3",
   "version": "3.11.2"
  },
  "orig_nbformat": 4
 },
 "nbformat": 4,
 "nbformat_minor": 2
}
